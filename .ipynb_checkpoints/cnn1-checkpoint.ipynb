{
 "cells": [
  {
   "cell_type": "code",
   "execution_count": 1,
   "id": "d2bb1c00",
   "metadata": {},
   "outputs": [],
   "source": [
    "#!pip install tensorflow --upgrade"
   ]
  },
  {
   "cell_type": "code",
   "execution_count": 2,
   "id": "5b157bf4",
   "metadata": {},
   "outputs": [],
   "source": [
    "import tensorflow as tf\n",
    "import numpy as np\n",
    "import matplotlib.pyplot as plt\n",
    "#print(tf.__version__)"
   ]
  },
  {
   "cell_type": "code",
   "execution_count": 3,
   "id": "77fe97e5",
   "metadata": {},
   "outputs": [],
   "source": [
    "fashion_mnist = tf.keras.datasets.fashion_mnist\n",
    "\n",
    "(train_images, train_labels), (test_images, test_labels) = fashion_mnist.load_data()"
   ]
  },
  {
   "cell_type": "code",
   "execution_count": 4,
   "id": "f965b9ca",
   "metadata": {},
   "outputs": [],
   "source": [
    "class_names = ['T-shirt/top', 'Trouser', 'Pullover', 'Dress', 'Coat',\n",
    "               'Sandal', 'Shirt', 'Sneaker', 'Bag', 'Ankle boot']"
   ]
  },
  {
   "cell_type": "code",
   "execution_count": 5,
   "id": "6f7a8c8d",
   "metadata": {},
   "outputs": [
    {
     "name": "stdout",
     "output_type": "stream",
     "text": [
      "(60000, 28, 28)\n",
      "(60000,)\n",
      "(10000, 28, 28)\n",
      "(10000,)\n"
     ]
    }
   ],
   "source": [
    "print(train_images.shape)\n",
    "print(train_labels.shape)\n",
    "print(test_images.shape)\n",
    "print(test_labels.shape)"
   ]
  },
  {
   "cell_type": "code",
   "execution_count": 6,
   "id": "1b2245c3",
   "metadata": {},
   "outputs": [],
   "source": [
    "X_train = train_images.reshape(len(train_images),28,28,1)\n",
    "y_train = train_labels.reshape(len(train_labels),1)\n",
    "\n",
    "X_test = test_images.reshape(len(test_images),28,28,1)\n",
    "y_test = test_labels.reshape(len(test_labels),1)"
   ]
  },
  {
   "cell_type": "code",
   "execution_count": 7,
   "id": "d40b1f7b",
   "metadata": {},
   "outputs": [
    {
     "name": "stdout",
     "output_type": "stream",
     "text": [
      "(60000, 28, 28, 1)\n",
      "(60000, 1)\n",
      "(10000, 28, 28, 1)\n",
      "(10000, 1)\n"
     ]
    }
   ],
   "source": [
    "print(X_train.shape)\n",
    "print(y_train.shape)\n",
    "print(X_test.shape)\n",
    "print(y_test.shape)"
   ]
  },
  {
   "cell_type": "code",
   "execution_count": 8,
   "id": "1ebf6212",
   "metadata": {},
   "outputs": [],
   "source": [
    "X_train = X_train / 255.0\n",
    "X_test = X_test / 255.0"
   ]
  },
  {
   "cell_type": "code",
   "execution_count": 9,
   "id": "3dc83fd9",
   "metadata": {},
   "outputs": [],
   "source": [
    "X_train_flat = X_train.reshape(X_train.shape[0], -1).astype(np.float32)\n",
    "X_test_flat = X_test.reshape(X_test.shape[0], -1).astype(np.float32)\n",
    "\n",
    "# Normalize the data\n",
    "X_train_flat /= 255.0\n",
    "X_test_flat /= 255.0\n",
    "\n",
    "# Compute the covariance matrix\n",
    "#cov_matrix = np.cov(X_train_flat)\n",
    "\n",
    "#print(\"Covariance matrix shape:\", cov_matrix.shape)\n",
    "#print(\"Covariance matrix:\\n\", cov_matrix)\n"
   ]
  },
  {
   "cell_type": "code",
   "execution_count": 10,
   "id": "092a19e3",
   "metadata": {},
   "outputs": [],
   "source": [
    "from tensorflow.keras.models import Sequential\n",
    "from tensorflow.keras.layers import Conv2D, MaxPooling2D, Dense, Flatten, Input, GlobalAveragePooling2D\n",
    "from tensorflow.keras.regularizers import l2\n",
    "from tensorflow.keras.optimizers import Adam\n",
    "from tensorflow.keras.losses import CategoricalCrossentropy"
   ]
  },
  {
   "cell_type": "code",
   "execution_count": 11,
   "id": "6d4d1b44",
   "metadata": {},
   "outputs": [
    {
     "name": "stdout",
     "output_type": "stream",
     "text": [
      "(10000, 28, 28, 1)\n",
      "(10000, 10)\n"
     ]
    }
   ],
   "source": [
    "from keras.utils import to_categorical\n",
    "num_classes = 10\n",
    "y_train = to_categorical(train_labels, num_classes)\n",
    "y_test = to_categorical(test_labels, num_classes)\n",
    "\n",
    "print(X_test.shape)  \n",
    "print(y_test.shape)  "
   ]
  },
  {
   "cell_type": "code",
   "execution_count": 12,
   "id": "4fdb3a17",
   "metadata": {
    "scrolled": true
   },
   "outputs": [
    {
     "data": {
      "image/png": "[encoded data removed]",
      "text/plain": [
       "<Figure size 640x480 with 2 Axes>"
      ]
     },
     "metadata": {},
     "output_type": "display_data"
    }
   ],
   "source": [
    "plt.figure()\n",
    "plt.imshow(X_train[10])\n",
    "plt.colorbar()\n",
    "plt.grid(False)\n",
    "plt.show()"
   ]
  },
  {
   "cell_type": "code",
   "execution_count": 29,
   "id": "e5b2ce8f",
   "metadata": {},
   "outputs": [],
   "source": [
    "#precision and recall\n",
    "\n",
    "import numpy as np\n",
    "import tensorflow as tf\n",
    "from tensorflow.keras.metrics import Precision, Recall\n",
    "\n",
    "def calculate_precision_recall(model, X_test, y_test):\n",
    "    y_pred_logits = model.predict(X_test, verbose=0)\n",
    "    y_pred = np.argmax(y_pred_logits, axis=-1)\n",
    "    \n",
    "    precision_metric = Precision()\n",
    "    recall_metric = Recall()\n",
    "\n",
    "    precision_metric.update_state(y_test, y_pred)\n",
    "    recall_metric.update_state(y_test, y_pred)\n",
    "    \n",
    "    precision = precision_metric.result().numpy()\n",
    "    recall = recall_metric.result().numpy()\n",
    "    \n",
    "    return precision, recall"
   ]
  },
  {
   "cell_type": "code",
   "execution_count": null,
   "id": "b1b1346a",
   "metadata": {
    "scrolled": true
   },
   "outputs": [
    {
     "ename": "",
     "evalue": "",
     "output_type": "error",
     "traceback": [
      "\u001b[1;31mFailed to start the Kernel. \n",
      "\u001b[1;31mEPERM: operation not permitted, scandir '/Users/ishikamanghwani/Desktop/cnn_rp'. \n",
      "\u001b[1;31mView Jupyter <a href='command:jupyter.viewOutput'>log</a> for further details."
     ]
    }
   ],
   "source": [
    "#General CNN\n",
    "\n",
    "import tensorflow as tf\n",
    "from tensorflow.keras import datasets, layers, models\n",
    "from tensorflow.keras.metrics import Precision, Recall\n",
    "\n",
    "(X_train, y_train), (X_test, y_test) = datasets.fashion_mnist.load_data()\n",
    "X_train = X_train.reshape((60000, 28, 28, 1)).astype('float32') / 255\n",
    "X_test = X_test.reshape((10000, 28, 28, 1)).astype('float32') / 255\n",
    "\n",
    "def general_cnn():\n",
    "    model_general_cnn = models.Sequential([\n",
    "        layers.Conv2D(32, (3, 3), activation='relu', input_shape=(28, 28, 1)),\n",
    "        layers.MaxPooling2D((2, 2)),\n",
    "        layers.Conv2D(64, (3, 3), activation='relu'),\n",
    "        layers.MaxPooling2D((2, 2)),\n",
    "        layers.Flatten(),\n",
    "        layers.Dense(64, activation='relu'),\n",
    "        layers.Dense(10)\n",
    "    ])\n",
    "    return model_general_cnn\n",
    "\n",
    "model_general_cnn = general_cnn()\n",
    "model_general_cnn.compile(optimizer=Adam(learning_rate=0.0001), loss=tf.keras.losses.SparseCategoricalCrossentropy(from_logits=True), metrics=['accuracy'])\n",
    "\n",
    "model_general_cnn.fit(X_train, y_train,epochs=10,validation_data=(X_test, y_test))\n",
    "test_loss_gcnn, test_acc_gcnn = model_general_cnn.evaluate(X_test, y_test, verbose=2)\n",
    "precision_gcnn, recall_gcnn = calculate_precision_recall(model_general_cnn, X_test, y_test)\n",
    "print(f\"Test accuracy: {test_acc_gcnn}\")"
   ]
  },
  {
   "cell_type": "code",
   "execution_count": null,
   "id": "5427aaff",
   "metadata": {},
   "outputs": [
    {
     "ename": "",
     "evalue": "",
     "output_type": "error",
     "traceback": [
      "\u001b[1;31mFailed to start the Kernel. \n",
      "\u001b[1;31mEPERM: operation not permitted, scandir '/Users/ishikamanghwani/Desktop/cnn_rp'. \n",
      "\u001b[1;31mView Jupyter <a href='command:jupyter.viewOutput'>log</a> for further details."
     ]
    }
   ],
   "source": [
    "model_general_cnn.summary()"
   ]
  },
  {
   "cell_type": "code",
   "execution_count": null,
   "id": "472d4510",
   "metadata": {
    "scrolled": true
   },
   "outputs": [
    {
     "ename": "",
     "evalue": "",
     "output_type": "error",
     "traceback": [
      "\u001b[1;31mFailed to start the Kernel. \n",
      "\u001b[1;31mEPERM: operation not permitted, scandir '/Users/ishikamanghwani/Desktop/cnn_rp'. \n",
      "\u001b[1;31mView Jupyter <a href='command:jupyter.viewOutput'>log</a> for further details."
     ]
    }
   ],
   "source": [
    "#AlexNet\n",
    "\n",
    "import tensorflow as tf\n",
    "from tensorflow.keras import datasets, layers, models\n",
    "from tensorflow.keras.optimizers import Adam\n",
    "from tensorflow.keras.metrics import Precision, Recall\n",
    "\n",
    "(X_train, y_train), (X_test, y_test) = datasets.fashion_mnist.load_data()\n",
    "X_train = X_train.reshape((60000, 28, 28, 1)).astype('float32') / 255\n",
    "X_test = X_test.reshape((10000, 28, 28, 1)).astype('float32') / 255\n",
    "\n",
    "def alexnet():\n",
    "    model_alexnet = models.Sequential([\n",
    "        layers.Conv2D(32, (3, 3), activation='relu', input_shape=(28, 28, 1)),\n",
    "        layers.MaxPooling2D((2, 2)),\n",
    "        layers.Conv2D(64, (3, 3), activation='relu'),\n",
    "        layers.MaxPooling2D((2, 2)),\n",
    "        layers.Conv2D(128, (3, 3), activation='relu'),\n",
    "        layers.MaxPooling2D((2, 2)),\n",
    "        layers.Flatten(),\n",
    "        layers.Dense(256, activation='relu'),\n",
    "        layers.Dense(256, activation='relu'),\n",
    "        layers.Dense(10)\n",
    "    ])\n",
    "    return model_alexnet\n",
    "\n",
    "model_alexnet = alexnet()\n",
    "model_alexnet.compile(optimizer=Adam(learning_rate=0.0001), loss=tf.keras.losses.SparseCategoricalCrossentropy(from_logits=True), metrics=['accuracy'])\n",
    "print(model_alexnet.summary())\n",
    "model_alexnet.fit(X_train, y_train, epochs=10, validation_data=(X_test, y_test))\n",
    "\n",
    "test_loss_alexnet, test_acc_alexnet = model_alexnet.evaluate(X_test, y_test, verbose=2)\n",
    "precision_alexnet, recall_alexnet = calculate_precision_recall(model_alexnet, X_test, y_test)\n",
    "print(f\"Test accuracy: {test_acc_alexnet}\")\n"
   ]
  },
  {
   "cell_type": "code",
   "execution_count": null,
   "id": "e1cd43ff",
   "metadata": {
    "scrolled": true
   },
   "outputs": [
    {
     "ename": "",
     "evalue": "",
     "output_type": "error",
     "traceback": [
      "\u001b[1;31mFailed to start the Kernel. \n",
      "\u001b[1;31mEPERM: operation not permitted, scandir '/Users/ishikamanghwani/Desktop/cnn_rp'. \n",
      "\u001b[1;31mView Jupyter <a href='command:jupyter.viewOutput'>log</a> for further details."
     ]
    }
   ],
   "source": [
    "#LeNet\n",
    "\n",
    "import tensorflow as tf\n",
    "from tensorflow.keras import datasets, layers, models\n",
    "from tensorflow.keras.optimizers import Adam\n",
    "from tensorflow.keras.metrics import Precision, Recall\n",
    "\n",
    "(X_train, y_train), (X_test, y_test) = datasets.fashion_mnist.load_data()\n",
    "X_train = X_train.reshape((60000, 28, 28, 1)).astype('float32') / 255\n",
    "X_test = X_test.reshape((10000, 28, 28, 1)).astype('float32') / 255\n",
    "\n",
    "def lenet():\n",
    "    model_lenet = models.Sequential([\n",
    "        layers.Conv2D(6, (5, 5), activation='relu', input_shape=(28, 28, 1)),\n",
    "        layers.MaxPooling2D((2, 2)),\n",
    "        layers.Conv2D(16, (5, 5), activation='relu'),\n",
    "        layers.MaxPooling2D((2, 2)),\n",
    "        layers.Flatten(),\n",
    "        layers.Dense(120, activation='relu'),\n",
    "        layers.Dense(84, activation='relu'),\n",
    "        layers.Dense(10)\n",
    "    ])\n",
    "    return model_lenet\n",
    "\n",
    "model_lenet = lenet()\n",
    "model_lenet.compile(optimizer=Adam(learning_rate=0.0001), loss=tf.keras.losses.SparseCategoricalCrossentropy(from_logits=True), metrics=['accuracy'])\n",
    "print(model_lenet.summary())\n",
    "model_lenet.fit(X_train, y_train, epochs=10, validation_data=(X_test, y_test))\n",
    "\n",
    "test_loss_lenet, test_acc_lenet = model_lenet.evaluate(X_test, y_test, verbose=2)\n",
    "precision_lenet, recall_lenet = calculate_precision_recall(model_lenet, X_test, y_test)\n",
    "print(f\"Test accuracy: {test_acc_lenet}\")\n"
   ]
  },
  {
   "cell_type": "code",
   "execution_count": null,
   "id": "bfa08e6a",
   "metadata": {
    "scrolled": true
   },
   "outputs": [
    {
     "ename": "",
     "evalue": "",
     "output_type": "error",
     "traceback": [
      "\u001b[1;31mFailed to start the Kernel. \n",
      "\u001b[1;31mEPERM: operation not permitted, scandir '/Users/ishikamanghwani/Desktop/cnn_rp'. \n",
      "\u001b[1;31mView Jupyter <a href='command:jupyter.viewOutput'>log</a> for further details."
     ]
    }
   ],
   "source": [
    "#ResNet\n",
    "\n",
    "import tensorflow as tf\n",
    "from tensorflow.keras import datasets, layers, models\n",
    "from tensorflow.keras.optimizers import Adam\n",
    "from tensorflow.keras.metrics import Precision, Recall\n",
    "\n",
    "(X_train, y_train), (X_test, y_test) = datasets.fashion_mnist.load_data()\n",
    "X_train = X_train.reshape((60000, 28, 28, 1)).astype('float32') / 255\n",
    "X_test = X_test.reshape((10000, 28, 28, 1)).astype('float32') / 255\n",
    "\n",
    "def resnet_block(inputs, filters, kernel_size, strides=1):\n",
    "    x = layers.Conv2D(filters, kernel_size, strides=strides, padding='same')(inputs)\n",
    "    x = layers.BatchNormalization()(x)\n",
    "    x = layers.ReLU()(x)\n",
    "    \n",
    "    x = layers.Conv2D(filters, kernel_size, strides=1, padding='same')(x)\n",
    "    x = layers.BatchNormalization()(x)\n",
    "    \n",
    "    if strides != 1:\n",
    "        inputs = layers.Conv2D(filters, (1, 1), strides=strides, padding='same')(inputs)\n",
    "        inputs = layers.BatchNormalization()(inputs)\n",
    "    \n",
    "    x = layers.add([x, inputs])\n",
    "    x = layers.ReLU()(x)\n",
    "    return x\n",
    "\n",
    "def resnet():\n",
    "    inputs = layers.Input(shape=(28, 28, 1))\n",
    "    x = layers.Conv2D(32, (3, 3), strides=1, padding='same')(inputs)\n",
    "    x = layers.BatchNormalization()(x)\n",
    "    x = layers.ReLU()(x)\n",
    "    x = layers.MaxPooling2D((2, 2), strides=2, padding='same')(x)\n",
    "    \n",
    "    x = resnet_block(x, 64, (3, 3), strides=2)\n",
    "    x = resnet_block(x, 64, (3, 3))\n",
    "    \n",
    "    x = resnet_block(x, 128, (3, 3), strides=2)\n",
    "    x = resnet_block(x, 128, (3, 3))\n",
    "    \n",
    "    x = layers.GlobalAveragePooling2D()(x)\n",
    "    x = layers.Dense(10)(x)\n",
    "    \n",
    "    model_resnet = models.Model(inputs, x)\n",
    "    return model_resnet\n",
    "\n",
    "model_resnet = resnet()\n",
    "model_resnet.compile(optimizer=Adam(learning_rate=0.0001), loss=tf.keras.losses.SparseCategoricalCrossentropy(from_logits=True), metrics=['accuracy'])\n",
    "print(model_resnet.summary())\n",
    "model_resnet.fit(X_train, y_train, epochs=10, validation_data=(X_test, y_test))\n",
    "\n",
    "test_loss_resnet, test_acc_resnet = model_resnet.evaluate(X_test, y_test, verbose=2)\n",
    "precision_resnet, recall_resnet = calculate_precision_recall(model_resnet, X_test, y_test)\n",
    "print(f\"Test accuracy: {test_acc_resnet}\")"
   ]
  },
  {
   "cell_type": "code",
   "execution_count": null,
   "id": "c4807a80",
   "metadata": {},
   "outputs": [
    {
     "ename": "",
     "evalue": "",
     "output_type": "error",
     "traceback": [
      "\u001b[1;31mFailed to start the Kernel. \n",
      "\u001b[1;31mEPERM: operation not permitted, scandir '/Users/ishikamanghwani/Desktop/cnn_rp'. \n",
      "\u001b[1;31mView Jupyter <a href='command:jupyter.viewOutput'>log</a> for further details."
     ]
    }
   ],
   "source": [
    "\"\"\"\n",
    "import tensorflow as tf\n",
    "from tensorflow.keras import Sequential, Input, layers, models\n",
    "from tensorflow.keras.optimizers import Adam\n",
    "from tensorflow.keras.regularizers import l2\n",
    "from tensorflow.keras.losses import SparseCategoricalCrossentropy\n",
    "from tensorflow.keras.callbacks import ReduceLROnPlateau\n",
    "from tensorflow.keras.metrics import Precision, Recall\n",
    "from tensorflow.keras.layers import  GlobalAveragePooling2D\n",
    "\n",
    "model = Sequential([])\n",
    "\n",
    "model.add(Input(shape=(28, 28, 1)))\n",
    "\n",
    "model.add(layers.Conv2D(filters=32, kernel_size=(2, 2), activation='relu', strides=(2, 2), padding='same', use_bias=True, kernel_regularizer=l2(0.001)))\n",
    "model.add(layers.Conv2D(filters=32, kernel_size=(2, 2), activation='relu', padding='same', kernel_regularizer=l2(0.001), use_bias=True))\n",
    "\n",
    "model.add(layers.MaxPooling2D((2, 2)))\n",
    "\n",
    "model.add(layers.Conv2D(filters=64, kernel_size=(2, 2), activation='relu', padding='same'))\n",
    "\n",
    "model.add(layers.MaxPooling2D((2, 2),padding='same'))\n",
    "\n",
    "model.add(layers.Conv2D(filters=32, kernel_size=(1, 1), activation='relu', padding='same'))\n",
    "model.add(layers.Conv2D(filters=32, kernel_size=(2, 2), activation='softmax', padding='same'))\n",
    "\n",
    "model.add(GlobalAveragePooling2D())\n",
    "#model.add(layers.Flatten())\n",
    "\n",
    "model.add(layers.Dense(256, activation='relu',kernel_regularizer=l2(0.001)))\n",
    "model.add(layers.Dense(512, activation='elu', kernel_regularizer=l2(0.0001)))\n",
    "model.add(layers.Dense(512, activation='elu', kernel_regularizer=l2(0.001)))\n",
    "model.add(layers.Dense(10, activation='softmax', kernel_regularizer=l2(0.001)))\n",
    "\n",
    "#y_train_int = np.argmax(y_train, axis=1)\n",
    "#y_test_int = np.argmax(y_test, axis=1)\n",
    "\n",
    "model.compile(optimizer=Adam(learning_rate=0.0001), loss=SparseCategoricalCrossentropy(from_logits=True), metrics=['accuracy'])\n",
    "reduce_lr = ReduceLROnPlateau(monitor='val_loss', factor=0.5, patience=3, min_lr=0.00001)\n",
    "model.summary()\"\"\""
   ]
  },
  {
   "cell_type": "code",
   "execution_count": null,
   "id": "c52ce078",
   "metadata": {},
   "outputs": [
    {
     "ename": "",
     "evalue": "",
     "output_type": "error",
     "traceback": [
      "\u001b[1;31mFailed to start the Kernel. \n",
      "\u001b[1;31mEPERM: operation not permitted, scandir '/Users/ishikamanghwani/Desktop/cnn_rp'. \n",
      "\u001b[1;31mView Jupyter <a href='command:jupyter.viewOutput'>log</a> for further details."
     ]
    }
   ],
   "source": [
    "#LiteNetCNN\n",
    "\n",
    "import tensorflow as tf\n",
    "from tensorflow.keras import Sequential, Input, layers\n",
    "from tensorflow.keras.optimizers import Adam\n",
    "from tensorflow.keras.regularizers import l2\n",
    "from tensorflow.keras.losses import SparseCategoricalCrossentropy\n",
    "from tensorflow.keras.callbacks import ReduceLROnPlateau\n",
    "from tensorflow.keras.metrics import Precision, Recall\n",
    "\n",
    "model = Sequential()\n",
    "\n",
    "model.add(Input(shape=(28, 28, 1)))\n",
    "\n",
    "model.add(layers.Conv2D(filters=48, kernel_size=(3, 3), activation='relu', padding='same', use_bias=True))\n",
    "model.add(layers.Conv2D(filters=32, kernel_size=(3, 3), activation='relu', padding='same', use_bias=True))\n",
    "\n",
    "model.add(layers.MaxPooling2D((2, 2)))\n",
    "#model.add(layers.Dropout(0.25))\n",
    "\n",
    "model.add(layers.Conv2D(filters=32, kernel_size=(3, 3), activation='relu', padding='same'))\n",
    "\n",
    "model.add(layers.MaxPooling2D((2, 2), padding='same'))\n",
    "#model.add(layers.Dropout(0.25))\n",
    "\n",
    "model.add(layers.Conv2D(filters=16, kernel_size=(3, 3), activation='relu', padding='same'))\n",
    "model.add(layers.Conv2D(filters=16, kernel_size=(3, 3), activation='relu', padding='same'))\n",
    "\n",
    "model.add(GlobalAveragePooling2D())\n",
    "\n",
    "model.add(layers.Dense(128, activation='relu', kernel_regularizer=l2(0.01)))\n",
    "model.add(layers.Dense(64, activation='elu', kernel_regularizer=l2(0.001)))\n",
    "#model.add(layers.Dropout(0.25))\n",
    "model.add(layers.Dense(10, activation='softmax', kernel_regularizer=l2(0.001)))\n",
    "\n",
    "model.compile(optimizer=Adam(learning_rate=0.0001), loss=SparseCategoricalCrossentropy(from_logits=True), metrics=['accuracy'])\n",
    "reduce_lr = ReduceLROnPlateau(monitor='val_loss', factor=0.5, patience=3, min_lr=0.00001)\n",
    "\n",
    "model.summary()"
   ]
  },
  {
   "cell_type": "code",
   "execution_count": null,
   "id": "ee556429",
   "metadata": {
    "scrolled": true
   },
   "outputs": [
    {
     "ename": "",
     "evalue": "",
     "output_type": "error",
     "traceback": [
      "\u001b[1;31mFailed to start the Kernel. \n",
      "\u001b[1;31mEPERM: operation not permitted, scandir '/Users/ishikamanghwani/Desktop/cnn_rp'. \n",
      "\u001b[1;31mView Jupyter <a href='command:jupyter.viewOutput'>log</a> for further details."
     ]
    }
   ],
   "source": [
    "model.fit(X_train, y_train,batch_size=18,epochs=50,callbacks=[reduce_lr],validation_data=(X_test, y_test))\n",
    "\n",
    "test_loss, test_acc = model.evaluate(X_test, y_test, verbose=2)\n",
    "precision, recall = calculate_precision_recall(model, X_test, y_test)\n",
    "print(f\"Test accuracy: {test_acc}\")"
   ]
  },
  {
   "cell_type": "code",
   "execution_count": null,
   "id": "78791fab",
   "metadata": {
    "scrolled": false
   },
   "outputs": [
    {
     "ename": "",
     "evalue": "",
     "output_type": "error",
     "traceback": [
      "\u001b[1;31mFailed to start the Kernel. \n",
      "\u001b[1;31mEPERM: operation not permitted, scandir '/Users/ishikamanghwani/Desktop/cnn_rp'. \n",
      "\u001b[1;31mView Jupyter <a href='command:jupyter.viewOutput'>log</a> for further details."
     ]
    }
   ],
   "source": [
    "# Randomly select an item \n",
    "random_idx = np.random.randint(0, len(X_test))\n",
    "random_image = X_test[random_idx]\n",
    "random_label = y_test[random_idx]\n",
    "\n",
    "# Predict the class \n",
    "prediction = model.predict(np.expand_dims(random_image, axis=0))\n",
    "predicted_class = np.argmax(prediction)\n",
    "\n",
    "print(f\"Actual label: {class_names[random_label]}\")\n",
    "print(f\"Predicted label: {class_names[predicted_class]}\")\n",
    "\n",
    "# Plot \n",
    "plt.imshow(random_image.squeeze(), cmap='gray')\n",
    "plt.title(f\"Actual: {class_names[random_label]}, Predicted: {class_names[predicted_class]}\")\n",
    "plt.show()"
   ]
  },
  {
   "cell_type": "code",
   "execution_count": null,
   "id": "af0979bf",
   "metadata": {},
   "outputs": [
    {
     "ename": "",
     "evalue": "",
     "output_type": "error",
     "traceback": [
      "\u001b[1;31mFailed to start the Kernel. \n",
      "\u001b[1;31mEPERM: operation not permitted, scandir '/Users/ishikamanghwani/Desktop/cnn_rp'. \n",
      "\u001b[1;31mView Jupyter <a href='command:jupyter.viewOutput'>log</a> for further details."
     ]
    }
   ],
   "source": [
    "#comparision\n",
    "\n",
    "print(test_acc-test_acc_gcnn)\n",
    "print(test_acc-test_acc_resnet) \n",
    "print(test_acc-test_acc_alexnet) \n",
    "print(test_acc-test_acc_lenet) "
   ]
  },
  {
   "cell_type": "code",
   "execution_count": null,
   "id": "7dab423c",
   "metadata": {},
   "outputs": [
    {
     "ename": "",
     "evalue": "",
     "output_type": "error",
     "traceback": [
      "\u001b[1;31mFailed to start the Kernel. \n",
      "\u001b[1;31mEPERM: operation not permitted, scandir '/Users/ishikamanghwani/Desktop/cnn_rp'. \n",
      "\u001b[1;31mView Jupyter <a href='command:jupyter.viewOutput'>log</a> for further details."
     ]
    }
   ],
   "source": [
    "print(\"Test Accuracy of our model \", test_acc)\n",
    "print(\"Test Accuracy of General CNN \", test_acc_gcnn)\n",
    "print(\"Test Accuracy of ResNet \", test_acc_resnet) #highest accuracy\n",
    "print(\"Test Accuracy of AlexNet \", test_acc_alexnet)\n",
    "print(\"Test Accuracy of LeNet \", test_acc_lenet)"
   ]
  },
  {
   "cell_type": "code",
   "execution_count": null,
   "id": "41a97ebf",
   "metadata": {},
   "outputs": [
    {
     "ename": "",
     "evalue": "",
     "output_type": "error",
     "traceback": [
      "\u001b[1;31mFailed to start the Kernel. \n",
      "\u001b[1;31mEPERM: operation not permitted, scandir '/Users/ishikamanghwani/Desktop/cnn_rp'. \n",
      "\u001b[1;31mView Jupyter <a href='command:jupyter.viewOutput'>log</a> for further details."
     ]
    }
   ],
   "source": [
    "print(\"Precision of our model \", precision) #highest precision\n",
    "print(\"Precision of General CNN \", precision_gcnn)\n",
    "print(\"Precision of ResNet \", precision_resnet)\n",
    "print(\"Precision of AlexNet \", precision_alexnet)\n",
    "print(\"Precision of LeNet \", precision_lenet)\n"
   ]
  },
  {
   "cell_type": "code",
   "execution_count": null,
   "id": "054b26f3",
   "metadata": {
    "scrolled": true
   },
   "outputs": [
    {
     "ename": "",
     "evalue": "",
     "output_type": "error",
     "traceback": [
      "\u001b[1;31mFailed to start the Kernel. \n",
      "\u001b[1;31mEPERM: operation not permitted, scandir '/Users/ishikamanghwani/Desktop/cnn_rp'. \n",
      "\u001b[1;31mView Jupyter <a href='command:jupyter.viewOutput'>log</a> for further details."
     ]
    }
   ],
   "source": [
    "print(\"Recall of our model \", recall) \n",
    "print(\"Recall of General CNN \", recall_gcnn)\n",
    "print(\"Recall of ResNet \", recall_resnet) #highest recall\n",
    "print(\"Recall of AlexNet \", recall_alexnet)\n",
    "print(\"Recall of LeNet \", recall_lenet)"
   ]
  },
  {
   "cell_type": "code",
   "execution_count": null,
   "id": "83fa0598",
   "metadata": {},
   "outputs": [],
   "source": []
  }
 ],
 "metadata": {
  "kernelspec": {
   "display_name": "Python 3 (ipykernel)",
   "language": "python",
   "name": "python3"
  },
  "language_info": {
   "codemirror_mode": {
    "name": "ipython",
    "version": 3
   },
   "file_extension": ".py",
   "mimetype": "text/x-python",
   "name": "python",
   "nbconvert_exporter": "python",
   "pygments_lexer": "ipython3",
   "version": "3.11.7"
  }
 },
 "nbformat": 4,
 "nbformat_minor": 5
}
